{
 "cells": [
  {
   "cell_type": "code",
   "execution_count": 19,
   "metadata": {},
   "outputs": [],
   "source": [
    "import yaml\n",
    "import os\n",
    "import sys\n",
    "if \"/opt/ros/kinetic/lib/python2.7/dist-packages\" in sys.path:\n",
    "    sys.path.remove(\"/opt/ros/kinetic/lib/python2.7/dist-packages\")\n",
    "import cv2\n",
    "import ujson\n",
    "import numpy as np\n",
    "import shutil\n",
    "from shutil import rmtree  \n",
    "from PIL import Image"
   ]
  },
  {
   "cell_type": "code",
   "execution_count": null,
   "metadata": {},
   "outputs": [],
   "source": [
    "\n",
    "\n",
    "### 신규 라벨링 데이터 생성\n",
    "\n",
    "# 원본파일 가져올 경로\n",
    "path = \"C:/Users/smhrd/Desktop/dataset/cross700\"\n",
    "croppath = \"C:/Users/smhrd/Desktop/dataset/cross_crop\"\n",
    "\n",
    "imgnames = os.listdir(path)\n",
    "\n",
    "\n",
    "for imgname in imgnames:\n",
    "    imgpath = path+'/'+imgname\n",
    "    # lbpath = imgpath.replace(\"/images\",\"/labels\").replace(\".jpg\", \".txt\")\n",
    "\n",
    "\n",
    "    img = Image.open(imgpath)\n",
    "\n",
    "    img_resize = img.resize((1280, 720))\n",
    "    img_resize.save(imgpath)\n",
    "\n",
    "    index = 0\n",
    "    print(imgname)\n",
    "    \n",
    "    dstpath = croppath+\"/\"+ imgname\n",
    "    img = cv2.imread(path+\"/\"+imgname)\n",
    "    # 1280,720\n",
    "    cropped_img = img[360:,:]\n",
    "    print(dstpath)\n",
    "    cv2.imwrite(dstpath,cropped_img)\n",
    "\n",
    "\n",
    "    # with open(lbpath, 'w') as f:\n",
    "    #     xywh = [0.5,0.4,0.9,0.8]  # xywh normalized\n",
    "    #     line = 5,*xywh  # YOLO format (class_index, xywh)\n",
    "    #     f.write(('%g ' * len(line)).rstrip() % line + '\\n')\n",
    "    \n",
    "    index += 1\n",
    "    \n"
   ]
  },
  {
   "cell_type": "code",
   "execution_count": null,
   "metadata": {},
   "outputs": [],
   "source": [
    "### 라벨생성\n",
    "\n",
    "# 원본파일 가져올 경로\n",
    "path = \"C:/Users/smhrd/Desktop/dataset/cross700\"\n",
    "\n",
    "imgnames = os.listdir(path)\n",
    "\n",
    "\n",
    "for imgname in imgnames:\n",
    "    imgpath = path+'/'+imgname\n",
    "    lbpath = imgpath.replace(\"/images\",\"/labels\").replace(\".jpg\", \".txt\")\n",
    "\n",
    "\n",
    "    index = 0\n",
    "    \n",
    "    with open(lbpath, 'w') as f:\n",
    "        xywh = [0.5,0.4,0.9,0.8]  # xywh normalized\n",
    "        line = 5,*xywh  # YOLO format (class_index, xywh)\n",
    "        f.write(('%g ' * len(line)).rstrip() % line + '\\n')\n",
    "    \n",
    "    index += 1\n",
    "    "
   ]
  },
  {
   "cell_type": "code",
   "execution_count": null,
   "metadata": {},
   "outputs": [],
   "source": [
    "#기존 라벨데이터 읽어온 후 수정하기\n",
    "# path = './dataset/labels' \n",
    "# file_list = os.listdir(path) \n",
    "# for file_name in file_list:\n",
    "\n",
    "#   with open(path+'/'+file_name , 'r') as f:\n",
    "#     last = f.readlines()\n",
    "\n",
    "#   last[-1]= last[-1].replace(\"0.7\",\"0.5\")\n",
    "#   print(last)\n",
    "\n",
    "#   with open(path+'/'+file_name,'w') as f:\n",
    "#     pass\n",
    "\n",
    "#   for i in last:\n",
    "#     with open(path+'/'+file_name , 'a') as f:\n",
    "#       f.write(i)"
   ]
  },
  {
   "cell_type": "code",
   "execution_count": null,
   "metadata": {},
   "outputs": [],
   "source": [
    "path = '../blackBoxCarAccident/0' \n",
    "play_list=os.listdir(path)\n",
    "for play in play_list:\n",
    "    !python detect.py --weights runs/train/light_yolov5s_results/weights/last.pt --source ../blackBoxCarAccident/0/{play} --save-crop  "
   ]
  },
  {
   "cell_type": "code",
   "execution_count": 23,
   "metadata": {},
   "outputs": [],
   "source": []
  },
  {
   "cell_type": "code",
   "execution_count": null,
   "metadata": {},
   "outputs": [],
   "source": []
  }
 ],
 "metadata": {
  "kernelspec": {
   "display_name": "Python 3.6.13 ('p3.6')",
   "language": "python",
   "name": "python3"
  },
  "language_info": {
   "codemirror_mode": {
    "name": "ipython",
    "version": 3
   },
   "file_extension": ".py",
   "mimetype": "text/x-python",
   "name": "python",
   "nbconvert_exporter": "python",
   "pygments_lexer": "ipython3",
   "version": "3.6.13"
  },
  "orig_nbformat": 4,
  "vscode": {
   "interpreter": {
    "hash": "abe183f7d8c9137900281196f133f50327de68441621a6fd0874866665b8afff"
   }
  }
 },
 "nbformat": 4,
 "nbformat_minor": 2
}
