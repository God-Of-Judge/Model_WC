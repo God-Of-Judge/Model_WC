{
 "cells": [
  {
   "cell_type": "code",
   "execution_count": 1,
   "metadata": {},
   "outputs": [],
   "source": [
    "# !pip install ujson\n",
    "# !pip install -r requirements.txt"
   ]
  },
  {
   "cell_type": "code",
   "execution_count": 2,
   "metadata": {},
   "outputs": [],
   "source": [
    "import ujson"
   ]
  },
  {
   "cell_type": "code",
   "execution_count": 3,
   "metadata": {},
   "outputs": [],
   "source": [
    "from sklearn.model_selection import train_test_split"
   ]
  },
  {
   "cell_type": "code",
   "execution_count": 4,
   "metadata": {},
   "outputs": [
    {
     "name": "stdout",
     "output_type": "stream",
     "text": [
      "6548\n"
     ]
    }
   ],
   "source": [
    "from glob import glob\n",
    "img_list=glob('dataset/images/*.jpg')\n",
    "print(len(img_list))"
   ]
  },
  {
   "cell_type": "code",
   "execution_count": 5,
   "metadata": {},
   "outputs": [
    {
     "name": "stdout",
     "output_type": "stream",
     "text": [
      "5238 1310\n"
     ]
    }
   ],
   "source": [
    "\n",
    "train_img_list,val_img_list=train_test_split(img_list,test_size=0.2,random_state=2000)\n",
    "print(len(train_img_list),len(val_img_list))"
   ]
  },
  {
   "cell_type": "code",
   "execution_count": 6,
   "metadata": {},
   "outputs": [],
   "source": [
    "with open('dataset/train.txt','w') as f:\n",
    "  f.write('\\n'.join(train_img_list)+'\\n')\n",
    "with open('dataset/val.txt','w') as f:\n",
    "  f.write('\\n'.join(val_img_list)+'\\n')"
   ]
  },
  {
   "cell_type": "code",
   "execution_count": 7,
   "metadata": {},
   "outputs": [
    {
     "name": "stdout",
     "output_type": "stream",
     "text": [
      "{'names': ['red', 'redleft', 'yellow', 'green', 'greenleft', 'strait', 'cross'], 'nc': 7, 'train': './dataset/train.txt', 'val': './dataset/val.txt'}\n"
     ]
    }
   ],
   "source": [
    "import yaml\n",
    "with open('dataset/data.yaml','r') as f:\n",
    "  data=yaml.full_load(f)\n",
    "print(data)"
   ]
  },
  {
   "cell_type": "code",
   "execution_count": 8,
   "metadata": {},
   "outputs": [],
   "source": [
    "\n",
    "# data['train'] = 'dataset/train.txt'\n",
    "# data['val'] = 'dataset/val.txt'\n",
    "# with open('dataset/data.yaml','w') as f:\n",
    "#   yaml.dump(data,f)\n",
    "# print(data)"
   ]
  },
  {
   "cell_type": "code",
   "execution_count": 9,
   "metadata": {},
   "outputs": [
    {
     "name": "stdout",
     "output_type": "stream",
     "text": [
      "^C\n"
     ]
    }
   ],
   "source": [
    "# 학습 코드\n",
    "!python train.py --batch 8 --epochs 5"
   ]
  },
  {
   "cell_type": "code",
   "execution_count": null,
   "metadata": {},
   "outputs": [],
   "source": [
    "# 테스트 코드\n",
    "# !python detect.py --weights runs/train/light_yolov5s_results3/weights/best.pt --source test/video_cross3.mp4 --save-txt"
   ]
  },
  {
   "cell_type": "markdown",
   "metadata": {},
   "source": []
  }
 ],
 "metadata": {
  "kernelspec": {
   "display_name": "Python 3.8.13 ('dacon')",
   "language": "python",
   "name": "python3"
  },
  "language_info": {
   "codemirror_mode": {
    "name": "ipython",
    "version": 3
   },
   "file_extension": ".py",
   "mimetype": "text/x-python",
   "name": "python",
   "nbconvert_exporter": "python",
   "pygments_lexer": "ipython3",
   "version": "3.8.13"
  },
  "orig_nbformat": 4,
  "vscode": {
   "interpreter": {
    "hash": "4bfe9e07939e4c08359f7efa758f6a3cb7d7d492bb4a1089f52c253481390c90"
   }
  }
 },
 "nbformat": 4,
 "nbformat_minor": 2
}
