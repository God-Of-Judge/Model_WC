{
 "cells": [
  {
   "cell_type": "code",
   "execution_count": 1,
   "metadata": {},
   "outputs": [],
   "source": [
    "import yaml\n",
    "\n",
    "import os\n",
    "import sys\n",
    "import cv2\n",
    "import numpy as np\n",
    "import shutil\n",
    "from shutil import rmtree  "
   ]
  },
  {
   "cell_type": "code",
   "execution_count": null,
   "metadata": {},
   "outputs": [],
   "source": [
    "path = './dataset/labels' \n",
    "file_list = os.listdir(path) \n",
    "for file_name in file_list:\n",
    "\n",
    "  with open(path+'/'+file_name , 'r') as f:\n",
    "    last = f.readlines()\n",
    "\n",
    "  last[-1]= last[-1].replace(\"0.7\",\"0.5\")\n",
    "  print(last)\n",
    "\n",
    "  with open(path+'/'+file_name,'w') as f:\n",
    "    pass\n",
    "\n",
    "  for i in last:\n",
    "    with open(path+'/'+file_name , 'a') as f:\n",
    "      f.write(i)"
   ]
  },
  {
   "cell_type": "code",
   "execution_count": null,
   "metadata": {},
   "outputs": [],
   "source": [
    "path = '../blackBoxCarAccident/0' \n",
    "play_list=os.listdir(path)\n",
    "for play in play_list:\n",
    "    !python detect.py --weights runs/train/light_yolov5s_results/weights/last.pt --source ../blackBoxCarAccident/0/{play} --save-crop  "
   ]
  },
  {
   "cell_type": "code",
   "execution_count": 23,
   "metadata": {},
   "outputs": [],
   "source": [
    "### 신규 라벨링 데이터 생성\n",
    "import os\n",
    "import sys\n",
    "# if \"/opt/ros/kinetic/lib/python2.7/dist-packages\" in sys.path:\n",
    "#     sys.path.remove(\"/opt/ros/kinetic/lib/python2.7/dist-packages\")\n",
    "import cv2\n",
    "import numpy as np\n",
    "import shutil\n",
    "from shutil import rmtree  \n",
    "\n",
    "\n",
    "path = \"/dataset/images\"\n",
    "\n",
    "imgnames = os.listdir(path)\n",
    "\n",
    "for imgname in imgnames:\n",
    "    index = 0\n",
    "    imgpath = path+'/'+imgname\n",
    "\n",
    "    \n",
    "    lbpath = imgpath.replace(\"/images\",\"/labels\").replace(\".jpg\", \".txt\")\n",
    "\n",
    "    with open(lbpath, 'w') as f:\n",
    "        xywh = [0.5,0.5,1,1]  # xywh normalized\n",
    "        line = 6,*xywh  # YOLO format (class_index, xywh)\n",
    "        f.write(('%g ' * len(line)).rstrip() % line + '\\n')\n",
    "    \n",
    "    index += 1\n",
    "    "
   ]
  },
  {
   "cell_type": "code",
   "execution_count": null,
   "metadata": {},
   "outputs": [],
   "source": []
  }
 ],
 "metadata": {
  "kernelspec": {
   "display_name": "Python 3.10.2 64-bit",
   "language": "python",
   "name": "python3"
  },
  "language_info": {
   "codemirror_mode": {
    "name": "ipython",
    "version": 3
   },
   "file_extension": ".py",
   "mimetype": "text/x-python",
   "name": "python",
   "nbconvert_exporter": "python",
   "pygments_lexer": "ipython3",
   "version": "3.10.2"
  },
  "orig_nbformat": 4,
  "vscode": {
   "interpreter": {
    "hash": "9907b05ad5677b1cfcca22bd1a12faf7a7b5a0b41431806ea6144102cc530b51"
   }
  }
 },
 "nbformat": 4,
 "nbformat_minor": 2
}
